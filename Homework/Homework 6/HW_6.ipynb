{
 "cells": [
  {
   "cell_type": "markdown",
   "metadata": {},
   "source": [
    "# Homework 6\n",
    "## Kyle Hadley"
   ]
  },
  {
   "cell_type": "code",
   "execution_count": 1,
   "metadata": {},
   "outputs": [],
   "source": [
    "%matplotlib inline\n",
    "import numpy as np\n",
    "import matplotlib.pyplot as plt\n",
    "import matplotlib.patches as mpatches\n",
    "import matplotlib.lines as mlines\n",
    "import cvxpy as cp\n",
    "from mpl_toolkits.mplot3d.art3d import Poly3DCollection"
   ]
  },
  {
   "cell_type": "code",
   "execution_count": 3,
   "metadata": {},
   "outputs": [],
   "source": [
    "import warnings\n",
    "warnings.simplefilter('ignore')"
   ]
  },
  {
   "cell_type": "markdown",
   "metadata": {},
   "source": [
    "## 1. Graph Constraints"
   ]
  },
  {
   "source": [
    "### (a)\n",
    "\n",
    "Given the graph, the incidence matrix $E$ and source-sink vector $b$ are written as,\n",
    "\n",
    "$$E = \\begin{bmatrix}-1 & 0 & 0 & -1 & 0 & 1 \\\\ 1 & -1 & -1 & 0 & 0 & 0 \\\\ 0 & 0 & 1 & 1 & -1 & 0 \\\\ 0 & 1 & 0 & 0 & 1 & -1 \\end{bmatrix}$$\n",
    "\n",
    "$$b = \\begin{bmatrix}-1 \\\\ 0 \\\\ 0 \\\\ 1 \\end{bmatrix}$$"
   ],
   "cell_type": "markdown",
   "metadata": {}
  },
  {
   "source": [
    "### (b)\n",
    "\n",
    "Given the graph, the route indicator matrix $R$ can be written as,\n",
    "\n",
    "$$R = \\begin{bmatrix}1 & 1 & 0 \\\\ 1 & 0 & 0 \\\\ 0 & 1 & 0 \\\\ 0 & 0 & 1 \\\\ 0 & 1 & 1 \\\\ 0 & 0 & 0 \\end{bmatrix}$$\n",
    "\n",
    "Solving for $ER$ we find that,\n",
    "\n",
    "$$ER = \\begin{bmatrix}-1 & 0 & 0 & -1 & 0 & 1 \\\\ 1 & -1 & -1 & 0 & 0 & 0 \\\\ 0 & 0 & 1 & 1 & -1 & 0 \\\\ 0 & 1 & 0 & 0 & 1 & -1 \\end{bmatrix} * \\begin{bmatrix}1 & 1 & 0 \\\\ 1 & 0 & 0 \\\\ 0 & 1 & 0 \\\\ 0 & 0 & 1 \\\\ 0 & 1 & 1 \\\\ 0 & 0 & 0 \\end{bmatrix}$$\n",
    "$$ER = \\begin{bmatrix}-1 & -1 & -1 \\\\ 0 & 0 & 0 \\\\ 0 & 0 & 0 \\\\ 1 & 1 & 1\\end{bmatrix}$$\n",
    "\n",
    "From this, we can see that $ER$ is equivalent to $\\begin{bmatrix}b & b & b\\end{bmatrix}$ (i.e. the column vector $b$ repeated in each column of $ER$)."
   ],
   "cell_type": "markdown",
   "metadata": {}
  },
  {
   "source": [
    "### (c)\n",
    "\n",
    "To show that $E$ is not full row-rank, we first compute $1^TE$\n",
    "\n",
    "$$1^TE = \\begin{bmatrix}1 & 1 & 1 & 1 \\end{bmatrix} * \\begin{bmatrix}-1 & 0 & 0 & -1 & 0 & 1 \\\\ 1 & -1 & -1 & 0 & 0 & 0 \\\\ 0 & 0 & 1 & 1 & -1 & 0 \\\\ 0 & 1 & 0 & 0 & 1 & -1 \\end{bmatrix} = 0$$\n",
    "\n",
    "We can also show that $1^Tb = 0$ for our problem,\n",
    "\n",
    "$$1^Tb = \\begin{bmatrix}1 & 1 & 1 & 1 \\end{bmatrix} \\begin{bmatrix}-1 \\\\ 0 \\\\ 0 \\\\ 1 \\end{bmatrix} = 0$$"
   ],
   "cell_type": "markdown",
   "metadata": {}
  },
  {
   "source": [
    "### (d)\n",
    "\n",
    "Given that $U = \\begin{bmatrix}1 & 0 & 0 & 0 \\\\ 0 & 1 & 0 & 0 \\\\ 0 & 0 & 1 & 0 \\\\ 1 & 1 & 1 & 1 \\end{bmatrix}$, solving for $U^{-1}$ we find that (using numpy solver),\n",
    "\n",
    "$$U^{-1} = \\begin{bmatrix}1 & 0 & 0 & 0 \\\\ 0 & 1 & 0 & 0 \\\\ 0 & 0 & 1 & 0 \\\\ -1 & -1 & -1 & 1 \\end{bmatrix}$$"
   ],
   "cell_type": "markdown",
   "metadata": {}
  },
  {
   "cell_type": "code",
   "execution_count": 4,
   "metadata": {},
   "outputs": [
    {
     "output_type": "stream",
     "name": "stdout",
     "text": [
      "U^-1 = [[ 1.  0.  0.  0.]\n [ 0.  1.  0.  0.]\n [ 0.  0.  1.  0.]\n [-1. -1. -1.  1.]]\n"
     ]
    }
   ],
   "source": [
    "U = np.matrix([[1, 0, 0, 0], [0, 1, 0, 0], [0, 0, 1, 0], [1, 1, 1, 1]])\n",
    "print('U^-1 =', np.linalg.inv(U))"
   ]
  },
  {
   "source": [
    "### (e)\n",
    "\n",
    "Re-writing our component of the Lagrangian $v^T(Ex-b)$ as $v'^T = (E'x-b')$ where $v'^T = v^TU{-1}$, we can solve by substituting $v^T$ in our Lagrangian component such that,\n",
    "\n",
    "$$v^T(Ex-b) = v'^TU(Ex-b) = v'^T(UEx - Ub)$$\n",
    "\n",
    "We can see from the derived relationship that $E' = UE$ and $b' = Ub$. Computing $E'$ and $b'$ for out graph given,\n",
    "\n",
    "$$E' = UE = \\begin{bmatrix}1 & 0 & 0 & 0 \\\\ 0 & 1 & 0 & 0 \\\\ 0 & 0 & 1 & 0 \\\\ 1 & 1 & 1 & 1 \\end{bmatrix}*\\begin{bmatrix}-1 & 0 & 0 & -1 & 0 & 1 \\\\ 1 & -1 & -1 & 0 & 0 & 0 \\\\ 0 & 0 & 1 & 1 & -1 & 0 \\\\ 0 & 1 & 0 & 0 & 1 & -1 \\end{bmatrix}$$\n",
    "$$E' = \\begin{bmatrix}-1 & 0 & 0 & -1 & 0 & 1 \\\\ 1 & -1 & -1 & 0 & 0 & 0 \\\\ 0 & 0 & 1 & 1 & -1 & 0 \\\\ 0 & 0 & 0 & 0 & 0 & 0 \\end{bmatrix}$$\n",
    "\n",
    "$$b' = Ub = \\begin{bmatrix}1 & 0 & 0 & 0 \\\\ 0 & 1 & 0 & 0 \\\\ 0 & 0 & 1 & 0 \\\\ 1 & 1 & 1 & 1 \\end{bmatrix}*\\begin{bmatrix}-1 \\\\ 0 \\\\ 0 \\\\ 1 \\end{bmatrix}$$\n",
    "$$b' = \\begin{bmatrix}-1 \\\\ 0 \\\\ 0 \\\\ 0\\end{bmatrix}$$\n",
    "\n",
    "Intuitively, it seems that $v'$ represents the value function as it relates to routes from the origin and to our destination. The addition of the $U$ matrix eliminates all edges leaving our destination node, which is $4$ in this situation.\n",
    "\n",
    "The useless row in the equation $E'x = b'$ is the 4th row. When we remove this row then the equation is full row rank."
   ],
   "cell_type": "markdown",
   "metadata": {}
  },
  {
   "cell_type": "markdown",
   "metadata": {},
   "source": [
    "## 2. Shortest Path: Explicit Path Enumeration\n",
    "\n",
    "Consider the shortest path linear program $\\min\\limits_{z\\in \\mathbb{R}^3} \\ell^Tz = c^TRz$ s.t. $1^Tz = 1, z \\geq 0$."
   ]
  },
  {
   "source": [
    "### (a)\n",
    "\n",
    "$z$ represents the nodes within our graph. The elements of $\\ell$ represents the cost of taking a given route, where $\\ell_i$ is the costing of taking route $R_i$."
   ],
   "cell_type": "markdown",
   "metadata": {}
  },
  {
   "source": [
    "### (b)\n",
    "\n",
    "The dual of this optimization problem using $\\lambda$ and $u$ is\n",
    "\n",
    "$$\\max\\limits_{\\lambda, u \\geq 0} \\lambda$$\n",
    "$$s.t. \\lambda 1^T + u^T = c^TR, u \\geq0$$\n",
    "\n",
    "In this case, $\\lambda$ represents the reward or cost of a given route. So in this case our problem will find a $\\lambda$ that is equivalent to the cost of the optimal route. $u$ represents the inefficient edges in our optimization problem."
   ],
   "cell_type": "markdown",
   "metadata": {}
  },
  {
   "source": [
    "### (c)\n",
    "\n"
   ],
   "cell_type": "markdown",
   "metadata": {}
  },
  {
   "cell_type": "markdown",
   "metadata": {},
   "source": [
    "## 3. Shortest Path: Edge Formulation\n",
    "\n",
    "Consider the shortest path linear program such that $\\min\\limits_{x\\in \\mathbb{R}^6} c^Tx$ s.t. $Ex=b, x\\geq0$ for $c\\in\\mathbb{R}^6$."
   ]
  },
  {
   "source": [
    "### (a)\n",
    "\n",
    "The Lagrangian of this optimization problem using $v$ and $\\mu$ is as follows,\n",
    "\n",
    "$$L(x, v, \\mu) = c^Tx + v^T(Ex - b) - \\mu^Tx$$"
   ],
   "cell_type": "markdown",
   "metadata": {}
  },
  {
   "source": [
    "### (b)\n",
    "\n",
    "Solving for the KKT conditions, we find that,\n",
    "\n",
    "Stationarity : $\\frac{\\partial L}{\\partial x} = c^T + v^TE - \\mu^T = 0$\n",
    "\n",
    "Feasibility : $\\frac{\\partial L}{\\partial v} = Ex - b = 0 \\Rightarrow Ex = b$\n",
    "\n",
    "Positivity : $x \\geq 0, \\mu \\geq 0$\n",
    "\n",
    "Slackness : $\\mu^Tx = 0$ (i.e. $x_e\\mu_e=0$)"
   ],
   "cell_type": "markdown",
   "metadata": {}
  },
  {
   "source": [
    "### (c)\n",
    "\n",
    "From the stationarity condition, we know that $c^T +v^TE-\\mu^T=0$ which can be written as $c_e + v_{s'} - v_s - \\mu_e = 0$ for $\\forall e \\in E$. Taking the summation of this relationship yields us,\n",
    "\n",
    "$$\\sum\\limits_{e \\in r} \\left(c_e + v_{s'} - v_s - \\mu_e \\right) = 0$$\n",
    "$$\\sum\\limits_{e \\in r} c_e + \\sum\\limits_{e \\in r}(v_{s'} - v_s) - \\sum\\limits_{e \\in r}\\mu_e = 0$$\n",
    "\n",
    "Our second term can be re-written as $v_d - v_o$ which is the difference in cost to go from the origin to the destination. Thus,\n",
    "\n",
    "$$\\sum\\limits_{e \\in r} c_e + v_d - v_o - \\sum\\limits_{e \\in r}\\mu_e = 0$$\n",
    "$$\\sum\\limits_{e \\in r} c_e = v_o - v_d + \\sum\\limits_{e \\in r}\\mu_e$$\n",
    "\n",
    "Our left-most term is the total travel cost $\\left(\\sum\\limits_{e \\in r} c_e\\right)$, our middle term is the cost to go from the origin to the destination, and the right-most term is the sum of inefficiences along a given route.\n",
    "\n",
    "If we are in an optimal route, $x_e > 0$; thus from our slackness relationship $(x_e\\mu_e=0)$, $\\mu_e = 0$, thus we can see that $\\sum\\limits_{e \\in r} c_e = v_d - v_o$.\n",
    "\n",
    "If we are in a suboptimal route, $x_e = 0$; thus from our slackness relationship $(x_e\\mu_e=0)$, $\\mu_e >= 0$, thus we can see that $\\sum\\limits_{e \\in r} c_e = v_o - v_d + \\sum\\limits_{e \\in r}$.\n",
    "\n",
    "Thus, we can see that for any route from the origin to the destination (optimal or suboptimal), the total travel cost is greater than or equal to the minimum travel cost."
   ],
   "cell_type": "markdown",
   "metadata": {}
  },
  {
   "source": [
    "### (d)\n",
    "\n"
   ],
   "cell_type": "markdown",
   "metadata": {}
  },
  {
   "source": [
    "### (e)\n",
    "\n",
    "Given $\\min\\limits_{x\\in \\mathbb{R}^6} c^Tx$ s.t. $Ex=b, x\\geq0$ for $c\\in\\mathbb{R}^6$ and the Lagrangian from part (a) $L(x, v, \\mu) = c^Tx + v^T(Ex - b) - \\mu^Tx$, we can re-write our initial problem as,\n",
    "\n",
    "$$\\min\\limits_x \\left(\\max\\limits_{v, \\mu \\geq 0} \\left(c^Tx + v^T(Ex - b) - \\mu^Tx \\right) \\right)$$\n",
    "\n",
    "We know that,\n",
    "\n",
    "$$\\min\\limits_x \\left(\\max\\limits_{v, \\mu \\geq 0} \\left(c^Tx + v^T(Ex - b) - \\mu^Tx \\right) \\right) \\geq  \\max\\limits_{v, \\mu \\geq 0} \\left(\\min\\limits_x\\left(c^Tx + v^T(Ex - b) - \\mu^Tx \\right) \\right)$$\n",
    "\n",
    "Taking the RHS, we can solve for where $x$ is minimized by taking the derivative with respect to $x$ and find that\n",
    "\n",
    "$$c^T+v^TE-\\mu^T=0$$\n",
    "\n",
    "when $x$ is minimized. Re-writing the RHS, we find that\n",
    "\n",
    "$$c^Tx + v^T(Ex - b) - \\mu^Tx = (c^T + v^TE - \\mu^T) - v^Tb$$\n",
    "\n",
    "Given that we know that $c^T+v^TE-\\mu^T=0$, we can write the dual problem as\n",
    "\n",
    "$$\\min\\limits_{v, \\mu \\geq 0} -v^Tb$$\n",
    "$$\\text{s.t.}\\; c^T + v^TE - \\mu^T = 0, \\mu \\geq0$$"
   ],
   "cell_type": "markdown",
   "metadata": {}
  },
  {
   "source": [
    "### (f)\n",
    "\n",
    "Re-writing in terms of $v'$, we know $U^{-1}E' = E$ and $U^{-1}b' = b$ from problem (1), thus we can re-write the dual problem as,\n",
    "\n",
    "$$\\min\\limits_{v', \\mu \\geq 0} -v'^TU^{-1}b'$$\n",
    "$$\\text{s.t.}\\; c^T + v'^TU^{-1}E' - \\mu^T = 0, \\mu \\geq0$$\n",
    "\n",
    "It seems that reformulating the linear program in this form aggregates the masses to the optimal route, lowers the $\\lambda$ and eliminates the $\\mu$ from the optimal route as we saw when we looked at the illustrations of the dual problem from last time."
   ],
   "cell_type": "markdown",
   "metadata": {}
  },
  {
   "source": [
    "## 4. Numerical optimization"
   ],
   "cell_type": "markdown",
   "metadata": {}
  },
  {
   "source": [
    "### (a)\n",
    "\n",
    "Using, cvxpy we can solve problem (1) for the given cost vectors.\n",
    "\n",
    "For both cost vectors, the resulting optimal primal and dual variables are outputted in console below. The solution represents that optimal path (or paths) for the given graph structure.\n",
    "\n",
    "For $c^T = \\begin{bmatrix}1 & 3 & 1 & 3 & 1 & 1\\end{bmatrix}$, the optimal solution path is along the edges $1 \\Rightarrow 3 \\Rightarrow 5$ to go from the origin to the destination.\n",
    "\n",
    "For $c^T = \\begin{bmatrix}1 & 2 & 1 & 3 & 1 & 1\\end{bmatrix}$, there are two paths that have the same cost (i.e. two optimal solution paths); the path edges are defined as: $1 \\Rightarrow 3 \\Rightarrow 5$ and $1 \\Rightarrow 2$. The output demonstrates this by outputting a value of $0.5$ almost like a probability of paths that can be accessed. The decision at node $2$ to go down edges $2$ or $3$ lead to equivalent final costs, thus are represented by a $0.5$."
   ],
   "cell_type": "markdown",
   "metadata": {}
  },
  {
   "cell_type": "code",
   "execution_count": 11,
   "metadata": {},
   "outputs": [
    {
     "output_type": "stream",
     "name": "stdout",
     "text": [
      "For C = [[1 3 1 3 1 1]]\nThe optimal value is 3.0\n\nA solution x is:\n[[ 1.]\n [ 0.]\n [ 1.]\n [ 0.]\n [ 1.]\n [-0.]]\n\nA dual solution is: \n[[ 1.5]\n [ 0.5]\n [-0.5]\n [-1.5]] \nand \n [[0.]\n [1.]\n [0.]\n [1.]\n [0.]\n [4.]]\n"
     ]
    }
   ],
   "source": [
    "# Establish our values for input parameters\n",
    "E = np.matrix([[-1, 0, 0, -1, 0, 1], [1, -1, -1, 0, 0, 0], [0, 0, 1, 1, -1, 0], [0, 1, 0, 0, 1, -1]])\n",
    "b = np.matrix([[-1], [0], [0], [1]])\n",
    "c_T = np.matrix([1, 3, 1, 3, 1, 1]) # Define c_T as first cost vector\n",
    "\n",
    "# Define and solve the CVXPY problem.\n",
    "x = cp.Variable(shape=(6, 1))\n",
    "prob = cp.Problem(cp.Minimize(c_T @ x), [E @ x == b, x >= 0])\n",
    "prob.solve()\n",
    "\n",
    "# Print result.\n",
    "print('For C =', c_T)\n",
    "print(\"The optimal value is\", np.round_(prob.value, decimals = 1))\n",
    "print(\"\\nA solution x is:\")\n",
    "print(np.round_(x.value, decimals=1))\n",
    "print(\"\\nA dual solution is: \")\n",
    "print(np.round_(prob.constraints[0].dual_value, decimals=1), '\\nand \\n', np.round_(prob.constraints[1].dual_value, decimals=1))"
   ]
  },
  {
   "cell_type": "code",
   "execution_count": 12,
   "metadata": {},
   "outputs": [
    {
     "output_type": "stream",
     "name": "stdout",
     "text": [
      "For C = [[1 2 1 3 1 1]]\nThe optimal value is 3.0\n\nA solution x is:\n[[ 1. ]\n [ 0.5]\n [ 0.5]\n [ 0. ]\n [ 0.5]\n [-0. ]]\n\nA dual solution is: \n[[ 1.5]\n [ 0.5]\n [-0.5]\n [-1.5]] \nand \n [[0.]\n [0.]\n [0.]\n [1.]\n [0.]\n [4.]]\n"
     ]
    }
   ],
   "source": [
    "# Define c_T as second cost vector\n",
    "c_T = np.matrix([1, 2, 1, 3, 1, 1])\n",
    "\n",
    "# Define and solve the CVXPY problem.\n",
    "x = cp.Variable(shape=(6, 1))\n",
    "prob = cp.Problem(cp.Minimize(c_T @ x), [E @ x == b, x >= 0])\n",
    "prob.solve()\n",
    "\n",
    "# Print result.\n",
    "print('For C =', c_T)\n",
    "print(\"The optimal value is\", np.round_(prob.value, decimals = 1))\n",
    "print(\"\\nA solution x is:\")\n",
    "print(np.round_(x.value, decimals=1))\n",
    "print(\"\\nA dual solution is: \")\n",
    "print(np.round_(prob.constraints[0].dual_value, decimals=1), '\\nand \\n', np.round_(prob.constraints[1].dual_value, decimals=1))"
   ]
  },
  {
   "cell_type": "code",
   "execution_count": null,
   "metadata": {},
   "outputs": [],
   "source": []
  }
 ],
 "metadata": {
  "kernelspec": {
   "display_name": "Python 3",
   "language": "python",
   "name": "python3"
  },
  "language_info": {
   "codemirror_mode": {
    "name": "ipython",
    "version": 3
   },
   "file_extension": ".py",
   "mimetype": "text/x-python",
   "name": "python",
   "nbconvert_exporter": "python",
   "pygments_lexer": "ipython3",
   "version": "3.7.9-final"
  },
  "toc": {
   "base_numbering": 1,
   "nav_menu": {},
   "number_sections": false,
   "sideBar": true,
   "skip_h1_title": false,
   "title_cell": "Table of Contents",
   "title_sidebar": "Contents",
   "toc_cell": false,
   "toc_position": {},
   "toc_section_display": true,
   "toc_window_display": false
  },
  "varInspector": {
   "cols": {
    "lenName": 16,
    "lenType": 16,
    "lenVar": 40
   },
   "kernels_config": {
    "python": {
     "delete_cmd_postfix": "",
     "delete_cmd_prefix": "del ",
     "library": "var_list.py",
     "varRefreshCmd": "print(var_dic_list())"
    },
    "r": {
     "delete_cmd_postfix": ") ",
     "delete_cmd_prefix": "rm(",
     "library": "var_list.r",
     "varRefreshCmd": "cat(var_dic_list()) "
    }
   },
   "types_to_exclude": [
    "module",
    "function",
    "builtin_function_or_method",
    "instance",
    "_Feature"
   ],
   "window_display": false
  }
 },
 "nbformat": 4,
 "nbformat_minor": 2
}