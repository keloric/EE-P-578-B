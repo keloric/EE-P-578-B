{
 "cells": [
  {
   "cell_type": "markdown",
   "metadata": {},
   "source": [
    "# Homework 5\n",
    "## Kyle Hadley"
   ]
  },
  {
   "cell_type": "code",
   "execution_count": 1,
   "metadata": {},
   "outputs": [],
   "source": [
    "%matplotlib inline\n",
    "import numpy as np\n",
    "import matplotlib.pyplot as plt\n",
    "import matplotlib.patches as mpatches\n",
    "import matplotlib.lines as mlines\n",
    "import cvxpy as cp\n",
    "from mpl_toolkits.mplot3d.art3d import Poly3DCollection"
   ]
  },
  {
   "cell_type": "code",
   "execution_count": 2,
   "metadata": {},
   "outputs": [],
   "source": [
    "import warnings\n",
    "warnings.simplefilter('ignore')"
   ]
  },
  {
   "cell_type": "markdown",
   "metadata": {},
   "source": [
    "## 1. Linear Program Duality\n",
    "\n",
    "Given the linear program $p^* = \\min\\limits_x c^Tx$ s.t. $Ax = b, Cx \\geq d$."
   ]
  },
  {
   "source": [
    "### (a)\n",
    "\n",
    "We can write the linear program, $p^*$, in it's game form such that we are minimizing $x$ and maximizing $(v, w)$ of our Lagrangian. Solving for our lagrangian,\n",
    "\n",
    "$$\\mathcal{L}(x, v, w) = f(x) + v^Tg(x) + \\mu^Th(x) = c^Tx + v^T(Ax-b) + \\mu^T(Cx - d)$$\n",
    "$$\\mathcal{L}(x, v, w) = (c^T + v^TA + \\mu^TC)x - v^Tb - \\mu^Td$$\n",
    "\n",
    "Thus, we find that \n",
    "$$p^* = \\min\\limits_x \\max\\limits_{v, w} \\mathcal{L}(x, v, w)$$\n",
    "$$\\text{s.t. } \\mathcal{L}(x, v, w) = (c^T + v^TA + \\mu^TC)x - v^Tb - \\mu^Td$$"
   ],
   "cell_type": "markdown",
   "metadata": {}
  },
  {
   "source": [
    "### (b)\n",
    "\n",
    "To find a relationship between $p^*$ and $d^*$, we can start with the relationship of\n",
    "\n",
    "$$\\mathcal{L}(x, v) \\;|\\; \\forall x, \\forall v \\leq \\max_x \\mathcal{L}(x, v) \\; | \\; \\forall v$$\n",
    "\n",
    "If we minimize $v$ on both sides the relationship still holds true that\n",
    "\n",
    "$$\\min_v \\mathcal{L}(x, v) \\;|\\; \\forall x \\leq \\min_v (\\max_x \\mathcal{L}(x, v))$$\n",
    "\n",
    "Next, we can see that for any $x$ selected for the left-hand side of our equation, the relationship holds true. Thus we can pick an $x$ that maximizes the left-hand side (i.e. $\\max_x$) such that\n",
    "\n",
    "$$\\max_x (\\min_v \\mathcal{L}(x, v)) \\leq \\min_v (\\max_x \\mathcal{L}(x, v))$$\n",
    "\n",
    "Thus, we can see that from this relationship and our definitions for $p^*$ and $d^*$, $p^* \\leq d^*$."
   ],
   "cell_type": "markdown",
   "metadata": {}
  },
  {
   "source": [
    "### (c)\n",
    "\n",
    "Taking the derivative of the Lagrangian, as found in part (a), with respect to $x$ we find and equate the relationship to $0$, as we are minimizing $x$,\n",
    "\n",
    "$$\\frac{\\partial \\mathcal{L}}{\\partial x} = c^T + v^TA + \\mu^TC = 0$$\n",
    "\n",
    "Thus, we find the condition $c^T + v^TA + \\mu^TC = 0$."
   ],
   "cell_type": "markdown",
   "metadata": {}
  },
  {
   "source": [
    "### (d)\n",
    "\n",
    "Given our constraint as found in part (c), we can write the appropriate objective function of $v$ and $w$, $\\mathcal{l}(v,w)$ as follows,\n",
    "\n",
    "$$p^* = \\max\\limits_{v, w} (- v^Tb - \\mu^Td)$$\n",
    "\n",
    "s.t. $g(v, w) = 0$ and $h(v,w) \\geq 0$."
   ],
   "cell_type": "markdown",
   "metadata": {}
  },
  {
   "source": [
    "### (e)\n",
    "\n",
    "Given the values for $c^T$, $A$, $b$, $C$, and $d$, we can solve both the primal and dual versions using cvxpy as shown below."
   ],
   "cell_type": "markdown",
   "metadata": {}
  },
  {
   "cell_type": "code",
   "execution_count": null,
   "metadata": {},
   "outputs": [],
   "source": []
  },
  {
   "cell_type": "markdown",
   "metadata": {},
   "source": [
    "## 2. Quadratic Program Duality\n",
    "\n",
    "Consider the quadratic program $p^* = min_x \\frac{1}{2}x^TQx + r^Tx$ s.t. $Ax = b, Cx \\geq d$."
   ]
  },
  {
   "cell_type": "markdown",
   "metadata": {},
   "source": [
    "## 3. Simplex optimization\n",
    "\n"
   ]
  },
  {
   "cell_type": "markdown",
   "metadata": {},
   "source": [
    "## 4. Dynamic Programming"
   ]
  }
 ],
 "metadata": {
  "kernelspec": {
   "display_name": "Python 3",
   "language": "python",
   "name": "python3"
  },
  "language_info": {
   "codemirror_mode": {
    "name": "ipython",
    "version": 3
   },
   "file_extension": ".py",
   "mimetype": "text/x-python",
   "name": "python",
   "nbconvert_exporter": "python",
   "pygments_lexer": "ipython3",
   "version": "3.7.9-final"
  },
  "toc": {
   "base_numbering": 1,
   "nav_menu": {},
   "number_sections": false,
   "sideBar": true,
   "skip_h1_title": false,
   "title_cell": "Table of Contents",
   "title_sidebar": "Contents",
   "toc_cell": false,
   "toc_position": {},
   "toc_section_display": true,
   "toc_window_display": false
  },
  "varInspector": {
   "cols": {
    "lenName": 16,
    "lenType": 16,
    "lenVar": 40
   },
   "kernels_config": {
    "python": {
     "delete_cmd_postfix": "",
     "delete_cmd_prefix": "del ",
     "library": "var_list.py",
     "varRefreshCmd": "print(var_dic_list())"
    },
    "r": {
     "delete_cmd_postfix": ") ",
     "delete_cmd_prefix": "rm(",
     "library": "var_list.r",
     "varRefreshCmd": "cat(var_dic_list()) "
    }
   },
   "types_to_exclude": [
    "module",
    "function",
    "builtin_function_or_method",
    "instance",
    "_Feature"
   ],
   "window_display": false
  }
 },
 "nbformat": 4,
 "nbformat_minor": 2
}