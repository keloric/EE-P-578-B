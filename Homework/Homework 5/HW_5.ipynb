{
 "cells": [
  {
   "cell_type": "markdown",
   "metadata": {},
   "source": [
    "# Homework 5\n",
    "## Kyle Hadley"
   ]
  },
  {
   "cell_type": "code",
   "execution_count": 1,
   "metadata": {},
   "outputs": [],
   "source": [
    "%matplotlib inline\n",
    "import numpy as np\n",
    "import matplotlib.pyplot as plt\n",
    "import matplotlib.patches as mpatches\n",
    "import matplotlib.lines as mlines\n",
    "import cvxpy as cp\n",
    "from mpl_toolkits.mplot3d.art3d import Poly3DCollection"
   ]
  },
  {
   "cell_type": "code",
   "execution_count": 2,
   "metadata": {},
   "outputs": [],
   "source": [
    "import warnings\n",
    "warnings.simplefilter('ignore')"
   ]
  },
  {
   "cell_type": "markdown",
   "metadata": {},
   "source": [
    "## 1. Linear Program Duality\n",
    "\n",
    "Given the linear program $p^* = \\min\\limits_x c^Tx$ s.t. $Ax = b, Cx \\geq d$."
   ]
  },
  {
   "source": [
    "### (a)\n",
    "\n",
    "We can write the linear program, $p^*$, in it's game form such that we are minimizing $x$ and maximizing $(v, w)$ of our Lagrangian. Solving for our lagrangian,\n",
    "\n",
    "$$\\mathcal{L}(x, v, w) = f(x) + v^Tg(x) + w^Th(x) = c^Tx + v^T(Ax-b) + w^T(Cx - d)$$\n",
    "$$\\mathcal{L}(x, v, w) = (c^T + v^TA + w^TC)x - v^Tb - w^Td$$\n",
    "\n",
    "Thus, we find that \n",
    "$$p^* = \\min\\limits_x \\max\\limits_{v, w} \\mathcal{L}(x, v, w)$$\n",
    "$$\\text{s.t. } \\mathcal{L}(x, v, w) = (c^T + v^TA + w^TC)x - v^Tb - w^Td$$"
   ],
   "cell_type": "markdown",
   "metadata": {}
  },
  {
   "source": [
    "### (b)\n",
    "\n",
    "To find a relationship between $p^*$ and $d^*$, we can start with the relationship of\n",
    "\n",
    "$$\\mathcal{L}(x, v) \\;|\\; \\forall x, \\forall v \\leq \\max_x \\mathcal{L}(x, v) \\; | \\; \\forall v$$\n",
    "\n",
    "If we minimize $v$ on both sides the relationship still holds true that\n",
    "\n",
    "$$\\min_v \\mathcal{L}(x, v) \\;|\\; \\forall x \\leq \\min_v (\\max_x \\mathcal{L}(x, v))$$\n",
    "\n",
    "Next, we can see that for any $x$ selected for the left-hand side of our equation, the relationship holds true. Thus we can pick an $x$ that maximizes the left-hand side (i.e. $\\max_x$) such that\n",
    "\n",
    "$$\\max_x (\\min_v \\mathcal{L}(x, v)) \\leq \\min_v (\\max_x \\mathcal{L}(x, v))$$\n",
    "\n",
    "Thus, we can see that from this relationship and our definitions for $p^*$ and $d^*$, $p^* \\leq d^*$."
   ],
   "cell_type": "markdown",
   "metadata": {}
  },
  {
   "source": [
    "### (c)\n",
    "\n",
    "Taking the derivative of the Lagrangian, as found in part (a), with respect to $x$ we find and equate the relationship to $0$, as we are minimizing $x$,\n",
    "\n",
    "$$\\frac{\\partial \\mathcal{L}}{\\partial x} = c^T + v^TA + \\mu^TC = 0$$\n",
    "\n",
    "Thus, we find the condition $c^T + v^TA + \\mu^TC = 0$."
   ],
   "cell_type": "markdown",
   "metadata": {}
  },
  {
   "source": [
    "### (d)\n",
    "\n",
    "Given our constraint as found in part (c), we can write the appropriate objective function of $v$ and $w$, $\\mathcal{l}(v,w)$ as follows,\n",
    "\n",
    "$$p^* = \\max\\limits_{v, w} (- v^Tb - \\mu^Td)$$\n",
    "\n",
    "s.t. $g(v, w) = 0$ and $h(v,w) \\geq 0$."
   ],
   "cell_type": "markdown",
   "metadata": {}
  },
  {
   "source": [
    "### (e)\n",
    "\n",
    "Given the values for $c^T$, $A$, $b$, $C$, and $d$, we can solve both the primal and dual versions using cvxpy as shown below."
   ],
   "cell_type": "markdown",
   "metadata": {}
  },
  {
   "cell_type": "code",
   "execution_count": 19,
   "metadata": {},
   "outputs": [
    {
     "output_type": "stream",
     "name": "stdout",
     "text": [
      "\nThe optimal value is 3.9999999998358136\nA solution x is\n[[2.50000000e-01]\n [2.41013141e-11]\n [2.50000000e-01]\n [2.50000000e-01]\n [2.50000000e-01]]\nA dual solution is\n[[-5.80414113]\n [ 1.5       ]\n [ 0.5       ]] \n [[4.61842945e-10]\n [1.00000000e+00]\n [5.79071862e-10]\n [1.22463856e-10]\n [1.22463889e-10]\n [3.30414113e+00]\n [3.04141131e-01]]\n"
     ]
    }
   ],
   "source": [
    "# Establish our values for input parameters\n",
    "A = np.matrix([[1, 1, 1, 1, 1], [1, 1, -1, 0, 0], [0, 0, 0, 1, -1]])\n",
    "b = np.matrix([[1], [0], [0]])\n",
    "c = np.matrix([1, 2, 4, 5, 6])\n",
    "C_prime = np.matrix([[-1, -1, -1, 0, 0], [0, 0, 0, -1, -1]])\n",
    "C = np.concatenate((np.identity(5), C_prime), axis=0)\n",
    "d = np.matrix([[0], [0], [0], [0], [0], [-0.5], [-0.5]])\n",
    "\n",
    "#print(A, b, c, C, d)\n",
    "\n",
    "# Define and solve the CVXPY problem.\n",
    "x = cp.Variable(shape=(5, 1))\n",
    "prob = cp.Problem(cp.Minimize(c @ x), [A @ x == b, C @ x >= d])\n",
    "prob.solve()\n",
    "\n",
    "# Print result.\n",
    "print(\"\\nThe optimal value is\", prob.value)\n",
    "print(\"A solution x is\")\n",
    "print(x.value)\n",
    "print(\"A dual solution is\")\n",
    "print(prob.constraints[0].dual_value, '\\n', prob.constraints[1].dual_value)"
   ]
  },
  {
   "source": [
    "### (f)\n",
    "\n"
   ],
   "cell_type": "markdown",
   "metadata": {}
  },
  {
   "cell_type": "markdown",
   "metadata": {},
   "source": [
    "## 2. Quadratic Program Duality\n",
    "\n",
    "Consider the quadratic program $p^* = min_x \\frac{1}{2}x^TQx + r^Tx$ s.t. $Ax = b, Cx \\geq d$."
   ]
  },
  {
   "cell_type": "markdown",
   "metadata": {},
   "source": [
    "## 3. Simplex optimization\n",
    "\n"
   ]
  },
  {
   "source": [
    "### (a)\n",
    "\n",
    "a - $\\begin{bmatrix}1 & 0 & 0 \\end{bmatrix}^T$\n",
    "\n",
    "b - $\\begin{bmatrix}0 & 1 & 0 \\end{bmatrix}^T$\n",
    "\n",
    "c - $\\begin{bmatrix}0 & 0 & 1 \\end{bmatrix}^T$\n",
    "\n",
    "d - $\\begin{bmatrix}\\frac{1}{2} & \\frac{1}{2} & 0 \\end{bmatrix}^T$\n",
    "\n",
    "e - $\\begin{bmatrix}0 & \\frac{1}{2} & \\frac{1}{2} \\end{bmatrix}^T$\n",
    "\n",
    "f - $\\begin{bmatrix}\\frac{1}{2} & 0 & \\frac{1}{2} \\end{bmatrix}^T$\n",
    "\n",
    "g - $\\begin{bmatrix}\\frac{1}{3} & \\frac{1}{3} & \\frac{1}{3} \\end{bmatrix}^T$\n",
    "\n",
    "h - $x_2 = 1 - x_1$\n",
    "\n",
    "i - $x_3 = 1 - x_2$\n",
    "\n",
    "j - $x_1 = 1 - x_3$\n",
    "\n",
    "k - $r^T + \\begin{bmatrix}0 & 0 & 1 \\end{bmatrix}^T$\n",
    "\n",
    "l - $r^T + \\begin{bmatrix}\\frac{1}{3} & \\frac{1}{3} & \\frac{1}{3} \\end{bmatrix}^T$\n",
    "\n",
    "m - $r^T + \\begin{bmatrix}0 & 1 & 0 \\end{bmatrix}^T$\n",
    "\n",
    "n - $\\begin{bmatrix}\\frac{1}{3} & \\frac{1}{3} & 0 \\end{bmatrix}^T$\n",
    "\n",
    "o - $\\begin{bmatrix}\\frac{1}{3} & \\frac{1}{3} & \\frac{1}{3} \\end{bmatrix}^T$\n",
    "\n",
    "p - $r^T$"
   ],
   "cell_type": "markdown",
   "metadata": {}
  },
  {
   "source": [
    "### (b)\n",
    "\n",
    "a - $r_1$\n",
    "\n",
    "b - $r_2$\n",
    "\n",
    "c - $r_3$\n",
    "\n",
    "d - $\\mu_1$\n",
    "\n",
    "e - $\\mu_2$\n",
    "\n",
    "f - $\\mu_3$\n",
    "\n",
    "g - $\\lambda$\n",
    "\n",
    "h - $\\mu_1^*$\n",
    "\n",
    "i - $\\mu_3^*$\n",
    "\n",
    "j - $\\lambda^*$\n",
    "\n",
    "k - $x_2$"
   ],
   "cell_type": "markdown",
   "metadata": {}
  },
  {
   "cell_type": "markdown",
   "metadata": {},
   "source": [
    "## 4. Dynamic Programming\n",
    "\n",
    "### (a)\n",
    "\n",
    "Assuming that in our diagram our states are numbered from top to bottom ($state = \\{1, 2, 3\\}$) and time is numbered from left to right ($time = \\{0, 1, 2, 3, 4\\}$ - time $5$ is ignored because their is our final \"red\" node), the optimal \"cost-to-go\" for each node to the end is calculated as follows:\n",
    "\n",
    "---\n",
    "$time = 4$, $state = 1$ - 2\n",
    "\n",
    "$time = 4$, $state = 2$ - 2\n",
    "\n",
    "$time = 4$, $state = 3$ - 1\n",
    "\n",
    "---\n",
    "\n",
    "$time = 3$, $state = 1$ - 3\n",
    "\n",
    "$time = 3$, $state = 2$ - 2\n",
    "\n",
    "$time = 3$, $state = 3$ - 3\n",
    "\n",
    "---\n",
    "\n",
    "$time = 2$, $state = 1$ - 5\n",
    "\n",
    "$time = 2$, $state = 2$ - 4\n",
    "\n",
    "$time = 2$, $state = 3$ - 4\n",
    "\n",
    "---\n",
    "\n",
    "$time = 1$, $state = 1$ - 5\n",
    "\n",
    "$time = 1$, $state = 2$ - 6\n",
    "\n",
    "$time = 1$, $state = 3$ - 6\n",
    "\n",
    "---\n",
    "\n",
    "$time = 0$, $state = 2$ - 6"
   ]
  },
  {
   "source": [
    "### (b)\n",
    "\n",
    "The shortest path is start node (\"blue\" node) $\\rightarrow$ time = 1, state 1 $\\rightarrow$ time = 2, state = 2 $\\rightarrow$ time = 3, state = 2 $\\rightarrow$ time = 4, state = 3 $\\rightarrow$ end node (\"red\" node)."
   ],
   "cell_type": "markdown",
   "metadata": {}
  }
 ],
 "metadata": {
  "kernelspec": {
   "display_name": "Python 3",
   "language": "python",
   "name": "python3"
  },
  "language_info": {
   "codemirror_mode": {
    "name": "ipython",
    "version": 3
   },
   "file_extension": ".py",
   "mimetype": "text/x-python",
   "name": "python",
   "nbconvert_exporter": "python",
   "pygments_lexer": "ipython3",
   "version": "3.7.9-final"
  },
  "toc": {
   "base_numbering": 1,
   "nav_menu": {},
   "number_sections": false,
   "sideBar": true,
   "skip_h1_title": false,
   "title_cell": "Table of Contents",
   "title_sidebar": "Contents",
   "toc_cell": false,
   "toc_position": {},
   "toc_section_display": true,
   "toc_window_display": false
  },
  "varInspector": {
   "cols": {
    "lenName": 16,
    "lenType": 16,
    "lenVar": 40
   },
   "kernels_config": {
    "python": {
     "delete_cmd_postfix": "",
     "delete_cmd_prefix": "del ",
     "library": "var_list.py",
     "varRefreshCmd": "print(var_dic_list())"
    },
    "r": {
     "delete_cmd_postfix": ") ",
     "delete_cmd_prefix": "rm(",
     "library": "var_list.r",
     "varRefreshCmd": "cat(var_dic_list()) "
    }
   },
   "types_to_exclude": [
    "module",
    "function",
    "builtin_function_or_method",
    "instance",
    "_Feature"
   ],
   "window_display": false
  }
 },
 "nbformat": 4,
 "nbformat_minor": 2
}