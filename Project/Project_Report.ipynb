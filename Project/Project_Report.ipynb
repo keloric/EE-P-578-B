{
 "cells": [
  {
   "cell_type": "markdown",
   "metadata": {},
   "source": [
    "# EE 578B Convex Optimization Project\n",
    "## Kyle Hadley"
   ]
  },
  {
   "cell_type": "code",
   "execution_count": 1,
   "metadata": {},
   "outputs": [],
   "source": [
    "%matplotlib inline\n",
    "import numpy as np\n",
    "import matplotlib.pyplot as plt\n",
    "import matplotlib.patches as mpatches\n",
    "import matplotlib.lines as mlines\n",
    "import cvxpy as cp\n",
    "from mpl_toolkits.mplot3d.art3d import Poly3DCollection"
   ]
  },
  {
   "cell_type": "code",
   "execution_count": 2,
   "metadata": {},
   "outputs": [],
   "source": [
    "import warnings\n",
    "warnings.simplefilter('ignore')"
   ]
  },
  {
   "cell_type": "markdown",
   "metadata": {},
   "source": [
    "## Introduction\n",
    "\n",
    "Working within the aviation industry, one of the most interesting convex optimization problems that airlines face involves deciding which routes should be offered to their customers. There are many different factors that are involved in choosing the routes: passenger demand, cost of operating route, aircraft available to operate the route, etc.\n",
    "\n",
    "Based on these factors, there have been predominately two approaches to planning airline's routes: (1) the hub-and-spoke model or (2) point-to-point.\n",
    "\n",
    "![point_hub_network](point_hub_network.png)\n",
    "\n",
    "The hub-and-spoke model mimics the spokes of a wheel spreading out from a single; typically airlines has a few select hubs (depending on an airline's size) that all flights fly through. An example of this is Alaska Airlines hub based out of the Seattle-Tacoma airport. The majority of the flights operated by Alaska Air flows through this airport. In this model, the airline chooses to connect as many cities to a single hub such that customers can access a larger network of cities, but are likely to require at least 1 or 2 layover flights. This enables an airline to operate larger aircraft between major hubs (e.g. Los Angeles and New York) and then utilize smaller, regional aircraft for any small flights from the hub to smaller cities (e.g. Log Angeles to San Diego).\n",
    "\n",
    "The point-to-point model instead attempts to connect as many cities directly rather than through a single hub. The point-to-point model emphasizes flying between two cities directly, regardless of size. An example of this approach is RyanAir which operates many low-cost flights through Europe continent. RyanAir attempts to connect as many cities, regardless of the size of cities to provide easy to access flights. Airlines can often more easily ensure that their routes are meeting the customer demand for a specific pair of cities as they don't need to be as concerned with ensuring \"connecting\" flights are supported.\n",
    "\n",
    "There are certainly disadvantages to both solutions. A hub-and-spoke model often leads to higher facility costs and requires passengers to often make connecting flights to reach their final destination (ultimately leading to longer travel times). A point-to-point model also requires significantly more aircraft in a given fleet to support the same number of routes; sometimes this may mean that cities cannot be supported within a point-to-point model if an airline does not have adequate aircraft within their fleet.\n",
    "\n",
    "Through my project, I hope to provide the foundation of a tool that could allow airlines to more quickly plan their routes based on customer demand. The model will compare multiple networks connected cities - following the hub-and-spoke model, point-to-point, and a combination of the two - to identify the optimal routes to maximize customer reward.\n",
    "\n",
    "To help develop the preliminary aspects of the model, I'll be imagining that my model is to be used for an upstart airline - *Concave Airlines* - to help them identify how they should offer routes between various cities to support customer demands. *Concave Airlines* is based out of Las Vegas, Nevada and is focused on mainly offering routes along the west coast and mountain states of the US, but also is interested in potentially supporting other major cities across the US and in North America.\n",
    "\n",
    "The following cities are currently of interest to be serviced by the airline:\n",
    "- Las Vegas, NV\n",
    "- Reno, NV\n",
    "- Salt Lake City, UT\n",
    "- Boise, ID\n",
    "- Seattle, WA\n",
    "- Los Angeles, CA\n",
    "- San Francisco, CA\n",
    "\n",
    "![graph of cities](City_Connections.png)"
   ]
  },
  {
   "source": [
    "# Problem Setup\n",
    "\n",
    "We can attempt to model our routes similar to the approach taken when modeling shortest path problems with edges formulated. Thus, we can think of the model as minimizing the cost of mass flow such that:\n",
    "\n",
    "$$\\min\\limits_x c^Tx$$\n",
    "$$\\text{s.t.} \\; Ex = b, x \\geq 0$$\n",
    "\n",
    "In order to leverage this general linear program, we must first start with a graph in order to define our matrices $c$, $E$, and $b$. To generate these matrices, we must evaluate the graph as it relates to servicing these cities.\n",
    "\n",
    "The graph is dependent on how we initially setup our routes; thus, we must setup a few potential graphs and compare the results of each graph after minimizing the linear program. In each graph our nodes represent the cities we want to service and the edges represent flights that we will offer to customers to meet their needs.\n",
    "\n",
    "Our first graph will utilize the hub-and-spoke model as discussed above; the graph is illustrated below:\n",
    "\n",
    "![hub_and_spoke model](Hub_and_spoke_model.png)\n",
    "\n",
    "From this graph, we can see that we have 7 nodes and 12 total edges. Thus, we can see that our $E \\in \\mathbb{R}^{7x12}$ and $b \\in \\mathbb{R}^{7}$."
   ],
   "cell_type": "markdown",
   "metadata": {}
  },
  {
   "source": [
    "Once of the initial issues that can be seen with the initial linear program is that the initial program assumes that we are only moving mass (i.e. our customers) from an initial node to a final node. However, we are hoping to service more than two nodes in our graph - we want to provide flights between multiple cities. In order to account for this, we can add additional constraints and $x's$. For example, if we were offering two routes we could re-write the problem as,\n",
    "\n",
    "$$\\min\\limits_{x_1, x_2} c^T(x_1+x_2)$$\n",
    "$$\\text{s.t.} \\; Ex_1 = b_1, Ex_2=b_2, x_i \\geq 0 \\forall i$$\n",
    "\n",
    "We can add constraints and $x's$ dependent on the number of cities we want to connect. We'll discuss the number of constraints and $x's$ we add depending on the graph we're evaluating in the next section.\n",
    "\n",
    "Another issue is that the initial problem we outlined doesn't account for larger mass flow (i.e. number of customers) between two nodes. All of our values of $b$ are currently binary vectors with a single $1$ and $-1$ indicating the initial and final node. In order to account for greater mass flow through a specific point, we can add a mass $m_i$ for each given constraint such that $Ex_i = m_i b_i$ where $m_i$ is a constant representing the number of customers flowing between nodes. For the purposes of our modeling, we will assume that the mass is a function of the population size of a given city (such as $0.05%$). It seems reasonable to expect that larger cities will have a greater mass flow leaving the city going to another city."
   ],
   "cell_type": "markdown",
   "metadata": {}
  },
  {
   "source": [
    "# References\n",
    "\n",
    "- https://aeronauticsonline.com/the-airline-economics-of-the-bicycle-wheel-point-to-point-vs-hub-and-spoke-flying/\n",
    "- https://transportgeography.org/contents/chapter2/geography-of-transportation-networks/point-to-point-versus-hub-and-spoke-network/#:~:text=A%20point%2Dto%2Dpoint%20network,intermediary%20location%20called%20a%20hub\n",
    "- https://simpleflying.com/how-do-airlines-plan-routes/"
   ],
   "cell_type": "markdown",
   "metadata": {}
  }
 ],
 "metadata": {
  "kernelspec": {
   "display_name": "Python 3",
   "language": "python",
   "name": "python3"
  },
  "language_info": {
   "codemirror_mode": {
    "name": "ipython",
    "version": 3
   },
   "file_extension": ".py",
   "mimetype": "text/x-python",
   "name": "python",
   "nbconvert_exporter": "python",
   "pygments_lexer": "ipython3",
   "version": "3.7.9-final"
  },
  "toc": {
   "base_numbering": 1,
   "nav_menu": {},
   "number_sections": false,
   "sideBar": true,
   "skip_h1_title": false,
   "title_cell": "Table of Contents",
   "title_sidebar": "Contents",
   "toc_cell": false,
   "toc_position": {},
   "toc_section_display": true,
   "toc_window_display": false
  },
  "varInspector": {
   "cols": {
    "lenName": 16,
    "lenType": 16,
    "lenVar": 40
   },
   "kernels_config": {
    "python": {
     "delete_cmd_postfix": "",
     "delete_cmd_prefix": "del ",
     "library": "var_list.py",
     "varRefreshCmd": "print(var_dic_list())"
    },
    "r": {
     "delete_cmd_postfix": ") ",
     "delete_cmd_prefix": "rm(",
     "library": "var_list.r",
     "varRefreshCmd": "cat(var_dic_list()) "
    }
   },
   "types_to_exclude": [
    "module",
    "function",
    "builtin_function_or_method",
    "instance",
    "_Feature"
   ],
   "window_display": false
  }
 },
 "nbformat": 4,
 "nbformat_minor": 2
}