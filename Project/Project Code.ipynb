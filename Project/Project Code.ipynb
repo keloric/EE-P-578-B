{
 "cells": [
  {
   "source": [
    "# Code"
   ],
   "cell_type": "markdown",
   "metadata": {}
  },
  {
   "cell_type": "code",
   "execution_count": 1,
   "metadata": {},
   "outputs": [],
   "source": [
    "%matplotlib inline\n",
    "import numpy as np\n",
    "import matplotlib.pyplot as plt\n",
    "import matplotlib.patches as mpatches\n",
    "import matplotlib.lines as mlines\n",
    "import cvxpy as cp\n",
    "from mpl_toolkits.mplot3d.art3d import Poly3DCollection\n",
    "import warnings\n",
    "warnings.simplefilter('ignore')\n",
    "np.random.seed(0)"
   ]
  },
  {
   "cell_type": "code",
   "execution_count": 2,
   "metadata": {
    "tags": []
   },
   "outputs": [
    {
     "output_type": "stream",
     "name": "stdout",
     "text": [
      "---First Ten Flights Generated---\n[[ 0.  0.  1. -1.  0.  0.]\n [ 0.  0.  1.  0. -1.  0.]\n [ 0.  0.  1.  0.  0. -1.]\n [ 0.  0. -1.  0.  0.  1.]\n [ 0.  0. -1.  1.  0.  0.]\n [ 0.  0.  1.  0.  0. -1.]\n [ 1. -1.  0.  0.  0.  0.]\n [ 0.  0.  0.  1. -1.  0.]\n [ 0.  0.  0. -1.  0.  1.]\n [ 0.  0.  1. -1.  0.  0.]]\n\nKey:\n-1 = Departure city\n 1 = Arrival City\n"
     ]
    }
   ],
   "source": [
    "# First randomly generate a set of 100 flights be used in our calculations\n",
    "number_of_flights = 100\n",
    "nodes = 6\n",
    "\n",
    "# pop is the population of each of cities in our graph; prob will be used for generating our array of flights\n",
    "pop = np.array([[6.34773e5, 1.97756e5, 3.967e6, 8.74961e5, 2.465e5, 7.24305e5]])\n",
    "prob = pop / pop.sum()\n",
    "\n",
    "# Our flights (designated by b)\n",
    "b = np.zeros(shape=(number_of_flights, nodes))\n",
    "\n",
    "for i in range(number_of_flights):\n",
    "    # Generate our b_i by randomly selecting two city pairs with a weighted probability on the more populated cities\n",
    "    b_ones = np.random.choice(nodes, size=2, replace=False, p=np.squeeze(prob))\n",
    "    b[i, b_ones[0]] = 1 # Pick a random starting city for flight\n",
    "    b[i, b_ones[1]] = -1 # Pick a random end city for flight\n",
    "\n",
    "# d is the cost of going through an airport, which is a function of population size as well (we'll say a factor of 0.001)\n",
    "d = 0.001*pop.T\n",
    "\n",
    "print('---First Ten Flights Generated---')\n",
    "print(b[0:10])\n",
    "print('\\nKey:\\n-1 = Departure city\\n 1 = Arrival City')"
   ]
  },
  {
   "source": [
    "## Hub-and-spoke Model"
   ],
   "cell_type": "markdown",
   "metadata": {}
  },
  {
   "source": [
    "### Primal Problem"
   ],
   "cell_type": "markdown",
   "metadata": {}
  },
  {
   "cell_type": "code",
   "execution_count": 3,
   "metadata": {
    "tags": []
   },
   "outputs": [
    {
     "output_type": "stream",
     "name": "stdout",
     "text": [
      "Primal Problem\nOptimal Value: 3303.8 Flight Hours\n\nOptimal x (i.e. Route Taken for Given Flight):\n[[0. 0. 0. 1. 1.]\n [1. 1. 1. 0. 0.]\n [1. 0. 0. 0. 0.]\n [0. 0. 0. 0. 1.]\n [0. 1. 0. 0. 0.]\n [0. 0. 0. 0. 0.]\n [0. 0. 1. 0. 0.]\n [0. 0. 0. 1. 0.]\n [0. 0. 0. 0. 0.]\n [0. 0. 0. 0. 0.]] Flight Hours\n\nKey:\n Cols = Flight(s)\n Rows = Edges Traveled (i.e. Legs of Flight)\n 1 = City is in route\n"
     ]
    }
   ],
   "source": [
    "# Set the number of edges for the given model (Hub-and-spoke)\n",
    "edges = 10\n",
    "\n",
    "# Costs are equivalent to the number of minutes required to travel between two cities (nodes) of our graph\n",
    "c = np.array([[65, 65, 85, 85, 70, 60, 150, 140, 80, 75]]).T\n",
    "\n",
    "# Generate our E matrices based on the hub-and-spoke routes\n",
    "E_i = np.array([[1, 0, 1, 0, 1, 0, 1, 0, 1, 0],\n",
    "                [0, 0, 0, 0, 0, 0, 0, 0, 0, 1],\n",
    "                [0, 1, 0, 0, 0, 0, 0, 0, 0, 0],\n",
    "                [0, 0, 0, 1, 0, 0, 0, 0, 0, 0],\n",
    "                [0, 0, 0, 0, 0, 1, 0, 0, 0, 0],\n",
    "                [0, 0, 0, 0, 0, 0, 0, 1, 0, 0]])\n",
    "E_o = np.array([[0, 1, 0, 1, 0, 1, 0, 1,  0, 1],\n",
    "                [0,  0, 0,  0, 0,  0, 0,  0, 1,  0],\n",
    "                [1, 0, 0,  0, 0,  0, 0,  0,  0,  0],\n",
    "                [0,  0, 1, 0, 0,  0, 0,  0,  0,  0],\n",
    "                [0,  0,  0, 0,1,  0, 0,  0,  0,  0],\n",
    "                [0,  0,  0, 0, 0,  0,1,  0,  0,  0]])\n",
    "\n",
    "E = E_i - E_o\n",
    "\n",
    "# x is a variable with shape |e| x |i| where i is the the number of routes\n",
    "x = cp.Variable([edges, number_of_flights])\n",
    "obj = 0.\n",
    "constraints = [x>=0]\n",
    "\n",
    "for i in range(number_of_flights):\n",
    "    obj = obj + (c.T + d.T@E_o)@x[:, i]\n",
    "\n",
    "    constraints.append(E @ x[:, i] == b[i, :])\n",
    "\n",
    "primal = cp.Problem(cp.Minimize(obj), constraints)\n",
    "primal.solve()\n",
    "\n",
    "print('Primal Problem')\n",
    "print('Optimal Value:', np.round_((primal.value / 60), decimals=2), 'Flight Hours')\n",
    "\n",
    "print('\\nOptimal x (i.e. Route Taken for Given Flight):')\n",
    "print(np.round_(np.absolute(x.value[:, 0:5]), decimals=1), 'Flight Hours')\n",
    "print('\\nKey:\\n Cols = Flight(s)\\n Rows = Edges Traveled (i.e. Legs of Flight)\\n 1 = City is in route')"
   ]
  },
  {
   "source": [
    "### Dual Problem"
   ],
   "cell_type": "markdown",
   "metadata": {}
  },
  {
   "cell_type": "code",
   "execution_count": 4,
   "metadata": {
    "tags": []
   },
   "outputs": [
    {
     "output_type": "stream",
     "name": "stdout",
     "text": [
      "Dual Problem\nOptimal Value: 3303.8 Flight Hours\n\nOptimal v (1st 5 Columns):\n[[   15.88    71.59    18.44  -495.38  -492.82]\n [ -200.15  -144.45  -197.6   -711.36  -708.81]\n [ -683.89  -628.18  -681.34  3536.62  3539.18]\n [  975.84   191.63   138.48  -375.24 -1212.6 ]\n [ -173.28   388.09  -170.73  -684.49  -681.94]\n [   65.6    121.31   892.74 -1270.15  -443.01]]\n\nOptimal mu (1st 5 Columns):\n[[4731.8 4731.8 4731.8    0.     0. ]\n [   0.     0.     0.  4731.8 4731.8]\n [   0.   839.9  839.9  839.8 1679.7]\n [1679.7  839.8  839.8  839.9    0. ]\n [ 505.7    0.   505.7  505.6  505.6]\n [ 505.6 1011.3  505.6  505.7  505.7]\n [ 824.6  824.6    0.  1649.1  824.5]\n [ 824.5  824.5 1649.1    0.   824.6]\n [ 493.8  493.8  493.8  493.7  493.7]\n [ 493.7  493.7  493.7  493.8  493.8]]\n"
     ]
    }
   ],
   "source": [
    "v = cp.Variable([nodes, number_of_flights])\n",
    "mu = cp.Variable([edges, number_of_flights])\n",
    "\n",
    "obj = cp.sum(-v.T @ b.T)\n",
    "constraints = [mu >= 0]\n",
    "constraints.append((c.T + d.T@E_o) + v.T@E - mu.T == 0)\n",
    "\n",
    "obj = 0.\n",
    "constraints = [mu>=0]\n",
    "\n",
    "for i in range(number_of_flights):\n",
    "    obj = obj + (-v[:, i].T @ b[i, :])\n",
    "    constraints.append(np.squeeze(c.T + d.T@E_o) + v[:,i].T@E - mu[:,i].T == 0)\n",
    "\n",
    "dual = cp.Problem(cp.Maximize(obj), constraints)\n",
    "dual.solve()\n",
    "\n",
    "print('Dual Problem')\n",
    "print('Optimal Value:', np.round_((dual.value / 60), decimals=2), 'Flight Hours')\n",
    "\n",
    "print('\\nOptimal v (1st 5 Columns):')\n",
    "print(np.round_(v.value[:, 0:5], decimals=2))\n",
    "\n",
    "print('\\nOptimal mu (1st 5 Columns):')\n",
    "print(np.round_(mu.value[:, 0:5], decimals=1))"
   ]
  },
  {
   "source": [
    "## Point-to-point Model"
   ],
   "cell_type": "markdown",
   "metadata": {}
  },
  {
   "source": [
    "### Primal Problem"
   ],
   "cell_type": "markdown",
   "metadata": {}
  },
  {
   "cell_type": "code",
   "execution_count": 5,
   "metadata": {},
   "outputs": [
    {
     "output_type": "stream",
     "name": "stdout",
     "text": [
      "Primal Solution: 3035.53 Flight Hours\n\n---Route Taken for Given Flight---\n[[0. 1. 0. 0. 0.]\n [0. 0. 0. 0. 0.]\n [1. 0. 1. 0. 0.]\n [0. 0. 0. 1. 1.]\n [0. 1. 0. 0. 0.]\n [0. 0. 0. 0. 0.]\n [0. 0. 0. 0. 0.]\n [0. 0. 0. 0. 0.]\n [0. 0. 0. 1. 0.]\n [0. 0. 1. 0. 0.]\n [0. 0. 0. 0. 0.]\n [0. 0. 0. 0. 0.]\n [0. 0. 0. 0. 0.]\n [0. 0. 0. 0. 0.]\n [0. 0. 0. 0. 0.]\n [0. 0. 0. 0. 0.]]\n\nKey:\n Cols = Flight(s)\n Rows = Edges Traveled (i.e. Legs of Flight)\n 1 = City is in route\n"
     ]
    }
   ],
   "source": [
    "# Costs are equivalent to the number of minutes required to travel between two cities (nodes) of our graph\n",
    "c = np.array([[65, 65, 80, 80, 70, 80, 130, 115, 125, 125, 110, 100, 75, 80, 60, 75]]).T\n",
    "\n",
    "# Generate our E matrices based on the hub-and-spoke routes\n",
    "E_i = np.array([[0, 1, 0, 0, 1, 0, 0, 0, 0, 0, 0, 0, 0, 1, 0, 0],\n",
    "                [0, 0, 0, 0, 0, 0, 0, 1, 0, 0, 0, 0, 1, 0, 0, 0],\n",
    "                [1, 0, 1, 0, 0, 0, 0, 0, 0, 0, 0, 0, 0, 0, 0, 0],\n",
    "                [0, 0, 0, 1, 0, 0, 0, 0, 0, 1, 0, 0, 0, 0, 0, 1],\n",
    "                [0, 0, 0, 0, 0, 1, 0, 0, 0, 0, 0, 1, 0, 0, 1, 0],\n",
    "                [0, 0, 0, 0, 0, 0, 1, 0, 1, 0, 1, 0, 0, 0, 0, 0]])\n",
    "\n",
    "E_o = np.array([[1, 0, 0, 0, 0, 1, 0, 0, 0, 0, 0, 0, 1, 0, 0, 0],\n",
    "                [0, 0, 0, 0, 0, 0, 1, 0, 0, 0, 0, 0, 0, 1, 0, 0],\n",
    "                [0, 1, 0, 1, 0, 0, 0, 0, 0, 0, 0, 0, 0, 0, 0, 0],\n",
    "                [0, 0, 1, 0, 0, 0, 0, 0, 1, 0, 0, 0, 0, 0, 1, 0],\n",
    "                [0, 0, 0, 0, 1, 0, 0, 0, 0, 0, 1, 0, 0, 0, 0, 1],\n",
    "                [0, 0, 0, 0, 0, 0, 0, 1, 0, 1, 0, 1, 0, 0, 0, 0]])\n",
    "\n",
    "E = E_i - E_o\n",
    "\n",
    "# x is a variable with shape |e| x |i| where i is the the number of routes\n",
    "edges=16\n",
    "x = cp.Variable([edges, number_of_flights])\n",
    "obj = 0.\n",
    "constraints = [x>=0]\n",
    "\n",
    "for i in range(number_of_flights):\n",
    "    obj = obj + (c.T + d.T@E_o)@x[:, i]\n",
    "\n",
    "    constraints.append(E @ x[:, i] == b[i,:])\n",
    "\n",
    "primal = cp.Problem(cp.Minimize(obj), constraints)\n",
    "primal.solve()\n",
    "\n",
    "print('Primal Solution:', np.round_((primal.value / 60), decimals=2), 'Flight Hours')\n",
    "\n",
    "print('\\n---Route Taken for Given Flight---')\n",
    "print(np.round_(np.absolute(x.value[:, 0:5]), decimals=1))\n",
    "print('\\nKey:\\n Cols = Flight(s)\\n Rows = Edges Traveled (i.e. Legs of Flight)\\n 1 = City is in route')"
   ]
  },
  {
   "cell_type": "code",
   "execution_count": 6,
   "metadata": {},
   "outputs": [
    {
     "output_type": "stream",
     "name": "stdout",
     "text": [
      "Dual Problem\nOptimal Value: 3035.53 Flight Hours\n\nOptimal v (1st 5 Columns):\n[[ -222.31    28.04  -211.24  -258.71  -244.05]\n [ -266.47   -79.49    64.68  -965.04  -633.12]\n [ -295.7   -671.74  -902.3   3757.97  3148.85]\n [  659.26    69.92    52.66  -289.03  -898.15]\n [  -72.63   344.54    94.23  -956.2   -786.3 ]\n [  197.84   308.73   901.97 -1288.99  -587.23]]\n\nOptimal mu (1st 5 Columns):\n[[6.2640e+02 0.0000e+00 8.7000e+00 4.7165e+03 4.0927e+03]\n [4.1054e+03 4.7318e+03 4.7231e+03 1.5300e+01 6.3910e+02]\n [0.0000e+00 2.1330e+02 0.0000e+00 5.0020e+03 5.0020e+03]\n [5.0020e+03 4.7887e+03 5.0020e+03 0.0000e+00 0.0000e+00]\n [1.6680e+02 0.0000e+00 1.1000e+01 1.0140e+03 8.5880e+02]\n [8.6440e+02 1.0313e+03 1.0202e+03 1.7300e+01 1.7250e+02]\n [7.9210e+02 7.1600e+02 1.1650e+03 3.8000e+00 3.7370e+02]\n [3.7500e+02 4.5110e+02 2.0000e+00 1.1633e+03 7.9340e+02]\n [5.3850e+02 1.2388e+03 1.8493e+03 0.0000e+00 1.3109e+03]\n [1.3107e+03 6.1050e+02 0.0000e+00 1.8493e+03 5.3840e+02]\n [6.2700e+02 3.2070e+02 1.1642e+03 2.3700e+01 5.5560e+02]\n [5.5380e+02 8.6010e+02 1.6600e+01 1.1571e+03 6.2520e+02]\n [6.6560e+02 6.0220e+02 9.8570e+02 3.4000e+00 3.2070e+02]\n [3.2190e+02 3.8530e+02 1.8000e+00 9.8410e+02 6.6680e+02]\n [2.0310e+02 1.2096e+03 9.7650e+02 2.6780e+02 1.0468e+03]\n [1.0534e+03 4.6900e+01 2.7990e+02 9.8870e+02 2.0960e+02]]\n"
     ]
    }
   ],
   "source": [
    "v = cp.Variable([nodes, number_of_flights])\n",
    "mu = cp.Variable([edges, number_of_flights])\n",
    "\n",
    "obj = cp.sum(-v.T @ b.T)\n",
    "constraints = [mu >= 0]\n",
    "constraints.append((c.T + d.T@E_o) + v.T@E - mu.T == 0)\n",
    "\n",
    "obj = 0.\n",
    "constraints = [mu>=0]\n",
    "\n",
    "for i in range(number_of_flights):\n",
    "    obj = obj + (-v[:, i].T @ b[i, :])\n",
    "    constraints.append(np.squeeze(c.T + d.T@E_o) + v[:,i].T@E - mu[:,i].T == 0)\n",
    "\n",
    "dual = cp.Problem(cp.Maximize(obj), constraints)\n",
    "dual.solve()\n",
    "\n",
    "print('Dual Problem')\n",
    "print('Optimal Value:', np.round_((dual.value / 60), decimals=2), 'Flight Hours')\n",
    "\n",
    "print('\\nOptimal v (1st 5 Columns):')\n",
    "print(np.round_(v.value[:, 0:5], decimals=2))\n",
    "\n",
    "print('\\nOptimal mu (1st 5 Columns):')\n",
    "print(np.round_(mu.value[:, 0:5], decimals=1))"
   ]
  },
  {
   "cell_type": "code",
   "execution_count": null,
   "metadata": {},
   "outputs": [],
   "source": []
  }
 ],
 "metadata": {
  "kernelspec": {
   "display_name": "Python 3",
   "language": "python",
   "name": "python3"
  },
  "language_info": {
   "codemirror_mode": {
    "name": "ipython",
    "version": 3
   },
   "file_extension": ".py",
   "mimetype": "text/x-python",
   "name": "python",
   "nbconvert_exporter": "python",
   "pygments_lexer": "ipython3",
   "version": "3.7.10-final"
  },
  "toc": {
   "base_numbering": 1,
   "nav_menu": {},
   "number_sections": false,
   "sideBar": true,
   "skip_h1_title": false,
   "title_cell": "Table of Contents",
   "title_sidebar": "Contents",
   "toc_cell": false,
   "toc_position": {},
   "toc_section_display": true,
   "toc_window_display": false
  },
  "varInspector": {
   "cols": {
    "lenName": 16,
    "lenType": 16,
    "lenVar": 40
   },
   "kernels_config": {
    "python": {
     "delete_cmd_postfix": "",
     "delete_cmd_prefix": "del ",
     "library": "var_list.py",
     "varRefreshCmd": "print(var_dic_list())"
    },
    "r": {
     "delete_cmd_postfix": ") ",
     "delete_cmd_prefix": "rm(",
     "library": "var_list.r",
     "varRefreshCmd": "cat(var_dic_list()) "
    }
   },
   "types_to_exclude": [
    "module",
    "function",
    "builtin_function_or_method",
    "instance",
    "_Feature"
   ],
   "window_display": false
  }
 },
 "nbformat": 4,
 "nbformat_minor": 2
}