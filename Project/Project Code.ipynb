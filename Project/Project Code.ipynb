{
 "cells": [
  {
   "source": [
    "# Code"
   ],
   "cell_type": "markdown",
   "metadata": {}
  },
  {
   "cell_type": "code",
   "execution_count": 1,
   "metadata": {},
   "outputs": [],
   "source": [
    "%matplotlib inline\n",
    "import numpy as np\n",
    "import matplotlib.pyplot as plt\n",
    "import matplotlib.patches as mpatches\n",
    "import matplotlib.lines as mlines\n",
    "import cvxpy as cp\n",
    "from mpl_toolkits.mplot3d.art3d import Poly3DCollection\n",
    "import warnings\n",
    "warnings.simplefilter('ignore')\n",
    "np.random.seed(0)"
   ]
  },
  {
   "cell_type": "code",
   "execution_count": 2,
   "metadata": {
    "tags": []
   },
   "outputs": [
    {
     "output_type": "stream",
     "name": "stdout",
     "text": [
      "---First Ten Flights Generated---\n[[ 0.  0.  1. -1.  0.  0.]\n [ 0.  0.  1.  0. -1.  0.]\n [ 0.  0.  1.  0.  0. -1.]\n [ 0.  0. -1.  0.  0.  1.]\n [ 0.  0. -1.  1.  0.  0.]\n [ 0.  0.  1.  0.  0. -1.]\n [ 1. -1.  0.  0.  0.  0.]\n [ 0.  0.  0.  1. -1.  0.]\n [ 0.  0.  0. -1.  0.  1.]\n [ 0.  0.  1. -1.  0.  0.]]\n\nKey:\n-1 = Departure city\n 1 = Arrival City\n"
     ]
    }
   ],
   "source": [
    "# First randomly generate a set of 100 flights be used in our calculations\n",
    "number_of_flights = 100\n",
    "nodes = 6\n",
    "\n",
    "# pop is the population of each of cities in our graph; prob will be used for generating our array of flights\n",
    "pop = np.array([[6.34773e5, 1.97756e5, 3.967e6, 8.74961e5, 2.465e5, 7.24305e5]])\n",
    "prob = pop / pop.sum()\n",
    "\n",
    "# Our flights (designated by b)\n",
    "b = np.zeros(shape=(number_of_flights, nodes))\n",
    "\n",
    "for i in range(number_of_flights):\n",
    "    # Generate our b_i by randomly selecting two city pairs with a weighted probability on the more populated cities\n",
    "    b_ones = np.random.choice(nodes, size=2, replace=False, p=np.squeeze(prob))\n",
    "    b[i, b_ones[0]] = 1 # Pick a random starting city for flight\n",
    "    b[i, b_ones[1]] = -1 # Pick a random end city for flight\n",
    "\n",
    "# d is the cost of going through an airport, which is a function of population size as well (we'll say a factor of 0.001)\n",
    "d = 0.001*pop.T\n",
    "\n",
    "print('---First Ten Flights Generated---')\n",
    "print(b[0:10])\n",
    "print('\\nKey:\\n-1 = Departure city\\n 1 = Arrival City')"
   ]
  },
  {
   "source": [
    "## Hub-and-spoke Model"
   ],
   "cell_type": "markdown",
   "metadata": {}
  },
  {
   "source": [
    "### Primal Problem"
   ],
   "cell_type": "markdown",
   "metadata": {}
  },
  {
   "cell_type": "code",
   "execution_count": 3,
   "metadata": {
    "tags": []
   },
   "outputs": [
    {
     "output_type": "stream",
     "name": "stdout",
     "text": [
      "Primal Problem\nOptimal Value: 3303.8\n\nOptimal x (i.e. Route Taken for Given Flight):\n[[0. 0. 0. 1. 1.]\n [1. 1. 1. 0. 0.]\n [1. 0. 0. 0. 0.]\n [0. 0. 0. 0. 1.]\n [0. 1. 0. 0. 0.]\n [0. 0. 0. 0. 0.]\n [0. 0. 1. 0. 0.]\n [0. 0. 0. 1. 0.]\n [0. 0. 0. 0. 0.]\n [0. 0. 0. 0. 0.]]\n\nKey:\n Cols = Flight(s)\n Rows = Edges Traveled (i.e. Legs of Flight)\n 1 = City is in route\n"
     ]
    }
   ],
   "source": [
    "# Set the number of edges for the given model (Hub-and-spoke)\n",
    "edges = 10\n",
    "\n",
    "# Costs are equivalent to the number of minutes required to travel between two cities (nodes) of our graph\n",
    "c = np.array([[65, 65, 85, 85, 70, 60, 150, 140, 80, 75]]).T\n",
    "\n",
    "# Generate our E matrices based on the hub-and-spoke routes\n",
    "E_i = np.array([[1, 0, 1, 0, 1, 0, 1, 0, 1, 0],\n",
    "                [0, 0, 0, 0, 0, 0, 0, 0, 0, 1],\n",
    "                [0, 1, 0, 0, 0, 0, 0, 0, 0, 0],\n",
    "                [0, 0, 0, 1, 0, 0, 0, 0, 0, 0],\n",
    "                [0, 0, 0, 0, 0, 1, 0, 0, 0, 0],\n",
    "                [0, 0, 0, 0, 0, 0, 0, 1, 0, 0]])\n",
    "E_o = np.array([[0, 1, 0, 1, 0, 1, 0, 1,  0, 1],\n",
    "                [0,  0, 0,  0, 0,  0, 0,  0, 1,  0],\n",
    "                [1, 0, 0,  0, 0,  0, 0,  0,  0,  0],\n",
    "                [0,  0, 1, 0, 0,  0, 0,  0,  0,  0],\n",
    "                [0,  0,  0, 0,1,  0, 0,  0,  0,  0],\n",
    "                [0,  0,  0, 0, 0,  0,1,  0,  0,  0]])\n",
    "\n",
    "E = E_i - E_o\n",
    "\n",
    "# x is a variable with shape |e| x |i| where i is the the number of routes\n",
    "x = cp.Variable([edges, number_of_flights])\n",
    "obj = 0.\n",
    "constraints = [x>=0]\n",
    "\n",
    "for i in range(number_of_flights):\n",
    "    obj = obj + (c.T + d.T@E_o)@x[:, i]\n",
    "\n",
    "    constraints.append(E @ x[:, i] == b[i, :])\n",
    "\n",
    "primal = cp.Problem(cp.Minimize(obj), constraints)\n",
    "primal.solve()\n",
    "\n",
    "print('Primal Problem')\n",
    "print('Optimal Value:', np.round_((primal.value / 60), decimals=2))\n",
    "\n",
    "print('\\nOptimal x (i.e. Route Taken for Given Flight):')\n",
    "print(np.round_(np.absolute(x.value[:, 0:5]), decimals=1))\n",
    "print('\\nKey:\\n Cols = Flight(s)\\n Rows = Edges Traveled (i.e. Legs of Flight)\\n 1 = City is in route')"
   ]
  },
  {
   "source": [
    "### Dual Problem"
   ],
   "cell_type": "markdown",
   "metadata": {}
  },
  {
   "cell_type": "code",
   "execution_count": 4,
   "metadata": {},
   "outputs": [
    {
     "output_type": "stream",
     "name": "stdout",
     "text": [
      "Dual Problem\nOptimal Value: 857.97\n[[-288.12483322]\n [ -10.36883448]\n [-987.89783316]\n [ 671.83616632]\n [  28.37516554]\n [ 586.18016636]]\n[[-288.125]\n [ -10.369]\n [-987.898]\n [ 671.836]\n [  28.375]\n [ 586.18 ]]\n[[4731.8]\n [   0. ]\n [   0. ]\n [1679.7]\n [   0. ]\n [1011.3]\n [   0. ]\n [1649.1]\n [   0. ]\n [ 987.5]]\n"
     ]
    }
   ],
   "source": [
    "v = cp.Variable([nodes, 1])\n",
    "mu = cp.Variable([edges, 1])\n",
    "\n",
    "obj = cp.sum(-v.T @ b.T)\n",
    "constraints = [mu >= 0]\n",
    "constraints.append((c.T + d.T@E_o) + v.T@E - mu.T == 0)\n",
    "\n",
    "dual = cp.Problem(cp.Maximize(obj), constraints)\n",
    "dual.solve()\n",
    "\n",
    "print('Dual Problem')\n",
    "print('Optimal Value:', np.round_((dual.value / 60), decimals=2))\n",
    "\n",
    "print(v.value)\n",
    "\n",
    "print(np.round_(v.value, decimals=3))\n",
    "print(np.round_(mu.value, decimals=1))"
   ]
  },
  {
   "source": [
    "## Point-to-point Model"
   ],
   "cell_type": "markdown",
   "metadata": {}
  },
  {
   "source": [
    "### Primal Problem"
   ],
   "cell_type": "markdown",
   "metadata": {}
  },
  {
   "cell_type": "code",
   "execution_count": 5,
   "metadata": {},
   "outputs": [
    {
     "output_type": "stream",
     "name": "stdout",
     "text": [
      "Primal Solution: 3035.53\n\n---Route Taken for Given Flight---\n[[0. 1. 0. 0. 0.]\n [0. 0. 0. 0. 0.]\n [1. 0. 1. 0. 0.]\n [0. 0. 0. 1. 1.]\n [0. 1. 0. 0. 0.]\n [0. 0. 0. 0. 0.]\n [0. 0. 0. 0. 0.]\n [0. 0. 0. 0. 0.]\n [0. 0. 0. 1. 0.]\n [0. 0. 1. 0. 0.]\n [0. 0. 0. 0. 0.]\n [0. 0. 0. 0. 0.]\n [0. 0. 0. 0. 0.]\n [0. 0. 0. 0. 0.]\n [0. 0. 0. 0. 0.]\n [0. 0. 0. 0. 0.]]\n\nKey:\n Cols = Flight(s)\n Rows = Edges Traveled (i.e. Legs of Flight)\n 1 = City is in route\n"
     ]
    }
   ],
   "source": [
    "# Costs are equivalent to the number of minutes required to travel between two cities (nodes) of our graph\n",
    "c = np.array([[65, 65, 80, 80, 70, 80, 130, 115, 125, 125, 110, 100, 75, 80, 60, 75]]).T\n",
    "\n",
    "# Generate our E matrices based on the hub-and-spoke routes\n",
    "E_i = np.array([[0, 1, 0, 0, 1, 0, 0, 0, 0, 0, 0, 0, 0, 1, 0, 0],\n",
    "                [0, 0, 0, 0, 0, 0, 0, 1, 0, 0, 0, 0, 1, 0, 0, 0],\n",
    "                [1, 0, 1, 0, 0, 0, 0, 0, 0, 0, 0, 0, 0, 0, 0, 0],\n",
    "                [0, 0, 0, 1, 0, 0, 0, 0, 0, 1, 0, 0, 0, 0, 0, 1],\n",
    "                [0, 0, 0, 0, 0, 1, 0, 0, 0, 0, 0, 1, 0, 0, 1, 0],\n",
    "                [0, 0, 0, 0, 0, 0, 1, 0, 1, 0, 1, 0, 0, 0, 0, 0]])\n",
    "\n",
    "E_o = np.array([[1, 0, 0, 0, 0, 1, 0, 0, 0, 0, 0, 0, 1, 0, 0, 0],\n",
    "                [0, 0, 0, 0, 0, 0, 1, 0, 0, 0, 0, 0, 0, 1, 0, 0],\n",
    "                [0, 1, 0, 1, 0, 0, 0, 0, 0, 0, 0, 0, 0, 0, 0, 0],\n",
    "                [0, 0, 1, 0, 0, 0, 0, 0, 1, 0, 0, 0, 0, 0, 1, 0],\n",
    "                [0, 0, 0, 0, 1, 0, 0, 0, 0, 0, 1, 0, 0, 0, 0, 1],\n",
    "                [0, 0, 0, 0, 0, 0, 0, 1, 0, 1, 0, 1, 0, 0, 0, 0]])\n",
    "\n",
    "E = E_i - E_o\n",
    "\n",
    "# x is a variable with shape |e| x |i| where i is the the number of routes\n",
    "edges=16\n",
    "x = cp.Variable([edges, number_of_flights])\n",
    "obj = 0.\n",
    "constraints = [x>=0]\n",
    "\n",
    "for i in range(number_of_flights):\n",
    "    obj = obj + (c.T + d.T@E_o)@x[:, i]\n",
    "\n",
    "    constraints.append(E @ x[:, i] == b[i,:])\n",
    "\n",
    "primal = cp.Problem(cp.Minimize(obj), constraints)\n",
    "primal.solve()\n",
    "\n",
    "print('Primal Solution:', np.round_((primal.value / 60), decimals=2))\n",
    "\n",
    "print('\\n---Route Taken for Given Flight---')\n",
    "print(np.round_(np.absolute(x.value[:, 0:5]), decimals=1))\n",
    "print('\\nKey:\\n Cols = Flight(s)\\n Rows = Edges Traveled (i.e. Legs of Flight)\\n 1 = City is in route')"
   ]
  },
  {
   "cell_type": "code",
   "execution_count": 6,
   "metadata": {},
   "outputs": [
    {
     "output_type": "stream",
     "name": "stdout",
     "text": [
      "Dual Problem\nOptimal Value: 802.36\n[[-209.02733294]\n [  68.72866478]\n [-908.80033261]\n [  46.16066717]\n [ 107.4726648 ]\n [ 895.46566661]]\n[[-209.027]\n [  68.729]\n [-908.8  ]\n [  46.161]\n [ 107.473]\n [ 895.466]]\n[[   0. ]\n [4731.8]\n [   0. ]\n [5002. ]\n [   0. ]\n [1031.3]\n [1154.5]\n [  12.6]\n [1849.3]\n [   0. ]\n [1144.5]\n [  36.3]\n [ 987.5]\n [   0. ]\n [ 996.3]\n [ 260.2]]\n"
     ]
    }
   ],
   "source": [
    "v = cp.Variable([nodes, 1])\n",
    "mu = cp.Variable([edges, 1])\n",
    "\n",
    "obj = cp.sum(-v.T @ b.T)\n",
    "constraints = [mu >= 0]\n",
    "constraints.append((c.T + d.T@E_o) + v.T@E - mu.T == 0)\n",
    "\n",
    "dual = cp.Problem(cp.Maximize(obj), constraints)\n",
    "dual.solve()\n",
    "\n",
    "print('Dual Problem')\n",
    "print('Optimal Value:', np.round_((dual.value / 60), decimals=2))\n",
    "\n",
    "print(v.value)\n",
    "\n",
    "print(np.round_(v.value, decimals=3))\n",
    "print(np.round_(mu.value, decimals=1))"
   ]
  }
 ],
 "metadata": {
  "kernelspec": {
   "display_name": "Python 3",
   "language": "python",
   "name": "python3"
  },
  "language_info": {
   "codemirror_mode": {
    "name": "ipython",
    "version": 3
   },
   "file_extension": ".py",
   "mimetype": "text/x-python",
   "name": "python",
   "nbconvert_exporter": "python",
   "pygments_lexer": "ipython3",
   "version": "3.7.10-final"
  },
  "toc": {
   "base_numbering": 1,
   "nav_menu": {},
   "number_sections": false,
   "sideBar": true,
   "skip_h1_title": false,
   "title_cell": "Table of Contents",
   "title_sidebar": "Contents",
   "toc_cell": false,
   "toc_position": {},
   "toc_section_display": true,
   "toc_window_display": false
  },
  "varInspector": {
   "cols": {
    "lenName": 16,
    "lenType": 16,
    "lenVar": 40
   },
   "kernels_config": {
    "python": {
     "delete_cmd_postfix": "",
     "delete_cmd_prefix": "del ",
     "library": "var_list.py",
     "varRefreshCmd": "print(var_dic_list())"
    },
    "r": {
     "delete_cmd_postfix": ") ",
     "delete_cmd_prefix": "rm(",
     "library": "var_list.r",
     "varRefreshCmd": "cat(var_dic_list()) "
    }
   },
   "types_to_exclude": [
    "module",
    "function",
    "builtin_function_or_method",
    "instance",
    "_Feature"
   ],
   "window_display": false
  }
 },
 "nbformat": 4,
 "nbformat_minor": 2
}